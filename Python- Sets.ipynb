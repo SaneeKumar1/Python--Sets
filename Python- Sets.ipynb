{
 "cells": [
  {
   "cell_type": "markdown",
   "id": "8f2526d8-cc1d-4cc7-b280-e0955b2dbcf4",
   "metadata": {},
   "source": [
    "Q1. What is a set in Python?"
   ]
  },
  {
   "cell_type": "markdown",
   "id": "2f5aa0ef-6f00-4882-b62d-51058fd76de0",
   "metadata": {},
   "source": [
    "Ans:- In Python, a set is an unordered collection of unique and immutable objects. It is represented by curly braces {}."
   ]
  },
  {
   "cell_type": "code",
   "execution_count": 2,
   "id": "3a3bed46-1de0-4739-b9bd-45bd1c57cb0c",
   "metadata": {},
   "outputs": [],
   "source": [
    "fruits = {\"apple\", \"banana\", \"orange\"}"
   ]
  },
  {
   "cell_type": "markdown",
   "id": "00511d1d-48fb-42d3-8a06-940896b20afd",
   "metadata": {},
   "source": [
    "fruits"
   ]
  },
  {
   "cell_type": "markdown",
   "id": "7f3920e1-697a-43bc-80b9-4ee2a1a033ce",
   "metadata": {},
   "source": [
    "Q2.How do you create a set in Python?"
   ]
  },
  {
   "cell_type": "markdown",
   "id": "badad219-fc32-465f-9044-2b68c5bcf96e",
   "metadata": {},
   "source": [
    "Ans:- To create a set in Python, you can use curly braces {}."
   ]
  },
  {
   "cell_type": "code",
   "execution_count": 19,
   "id": "727154ec-2d99-42a8-a2a3-aae96065e40e",
   "metadata": {},
   "outputs": [],
   "source": [
    "my_set = {1, 2, 3, 4, 5}"
   ]
  },
  {
   "cell_type": "code",
   "execution_count": 20,
   "id": "ac5991c2-1a7d-45d5-a368-70ff49089e43",
   "metadata": {},
   "outputs": [
    {
     "data": {
      "text/plain": [
       "{1, 2, 3, 4, 5}"
      ]
     },
     "execution_count": 20,
     "metadata": {},
     "output_type": "execute_result"
    }
   ],
   "source": [
    "my_set"
   ]
  },
  {
   "cell_type": "markdown",
   "id": "6b02ef55-0cd3-47c3-9867-5d5d2e0feab3",
   "metadata": {},
   "source": [
    "Q3. How do you add elements to a set in Python?"
   ]
  },
  {
   "cell_type": "markdown",
   "id": "c1abdad0-bde3-4124-95d2-8526315ac52a",
   "metadata": {},
   "source": [
    "Ans:- To add elements to a set in Python, you can use the add() method or the update() method."
   ]
  },
  {
   "cell_type": "code",
   "execution_count": 21,
   "id": "ab3af043-c204-4455-9a62-0a860090a14c",
   "metadata": {},
   "outputs": [],
   "source": [
    "my_set1 = {1, 2, 3}\n",
    "my_set1.add(4)\n",
    "\n",
    "my_set2 = {1, 2, 3}\n",
    "my_set2.update([4, 5, 6])"
   ]
  },
  {
   "cell_type": "code",
   "execution_count": 22,
   "id": "704c4f84-b8d1-40d8-b310-98e150185edd",
   "metadata": {},
   "outputs": [
    {
     "name": "stdout",
     "output_type": "stream",
     "text": [
      "{1, 2, 3, 4}\n",
      "{1, 2, 3, 4, 5, 6}\n"
     ]
    }
   ],
   "source": [
    "print(my_set1)\n",
    "print(my_set2)"
   ]
  },
  {
   "cell_type": "markdown",
   "id": "20781a42-4ca4-44b6-ae01-429f17bb6b6f",
   "metadata": {},
   "source": [
    "Q4. How do you remove elements from a set in Python?"
   ]
  },
  {
   "cell_type": "markdown",
   "id": "5c9c223f-af68-4122-99e8-253860768c92",
   "metadata": {},
   "source": [
    "Ans:- In Python, we can remove elements from a set using the remove(), discard(), or pop() methods."
   ]
  },
  {
   "cell_type": "code",
   "execution_count": 38,
   "id": "755d8a6f-9307-4191-b3d9-0d363b7cf45a",
   "metadata": {},
   "outputs": [],
   "source": [
    "my_set3 = {1, 2, 3, 4, 5}\n",
    "my_set3.remove(3)\n",
    "\n",
    "my_set4 = {1, 2, 3, 4, 5}\n",
    "my_set4.discard(5)\n",
    "\n",
    "my_set5 = {1, 8, 9, 7, 5}\n",
    "x = my_set5.pop()"
   ]
  },
  {
   "cell_type": "code",
   "execution_count": 39,
   "id": "c61e853e-502e-4c67-864f-14e7570b47ee",
   "metadata": {},
   "outputs": [
    {
     "name": "stdout",
     "output_type": "stream",
     "text": [
      "{1, 2, 4, 5}\n",
      "{1, 2, 3, 4}\n",
      "{5, 7, 8, 9}\n"
     ]
    }
   ],
   "source": [
    "print(my_set3)\n",
    "print(my_set4)\n",
    "print(my_set5)"
   ]
  },
  {
   "cell_type": "markdown",
   "id": "5ca3f2fa-3103-4334-8adc-e1b5c6cb614e",
   "metadata": {},
   "source": [
    "Q5. How do you get the length of a set in Python?"
   ]
  },
  {
   "cell_type": "markdown",
   "id": "2cd71ead-7125-4577-8f8c-ee9d3232b4eb",
   "metadata": {},
   "source": [
    "Ans:- In Python, you can get the length of a set using the len() function. The len() function returns the number of elements in the set."
   ]
  },
  {
   "cell_type": "code",
   "execution_count": 41,
   "id": "5bb950f8-949c-44dd-b1dc-f27b0eb01755",
   "metadata": {},
   "outputs": [
    {
     "name": "stdout",
     "output_type": "stream",
     "text": [
      "8\n"
     ]
    }
   ],
   "source": [
    "my_set6 = {1, 2, 3, 4, 5,6,7,8}\n",
    "print(len(my_set6))"
   ]
  }
 ],
 "metadata": {
  "kernelspec": {
   "display_name": "Python 3 (ipykernel)",
   "language": "python",
   "name": "python3"
  },
  "language_info": {
   "codemirror_mode": {
    "name": "ipython",
    "version": 3
   },
   "file_extension": ".py",
   "mimetype": "text/x-python",
   "name": "python",
   "nbconvert_exporter": "python",
   "pygments_lexer": "ipython3",
   "version": "3.10.8"
  }
 },
 "nbformat": 4,
 "nbformat_minor": 5
}
